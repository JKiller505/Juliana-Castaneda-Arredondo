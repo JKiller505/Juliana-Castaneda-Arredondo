{
 "cells": [
  {
   "cell_type": "markdown",
   "metadata": {},
   "source": [
    "## **GESTIÓN DE DATOS**\n",
    "\n",
    " **Nombre:** Juliana Castañeda Arredondo"
   ]
  },
  {
   "cell_type": "markdown",
   "metadata": {},
   "source": [
    "### ***PROBLEMA 2***\n",
    "\n",
    "##### **VIII) Realiza validaciones en un lenguaje de programación que cumplan con los criterios que estableciste.**\n",
    "\n",
    "Cabe destacar que la falta de datos como lo son los datos vacíos o missing values pueden causar grandes fluctuaciones al momento de querer realizar nuestro pronóstico o simplemente graficar nuestros datos, es por ello que pueden tomarse ciertas medidas mediante la filtración y preparación de nuestra base de datos para un análisis más preciso. \n"
   ]
  },
  {
   "cell_type": "markdown",
   "metadata": {},
   "source": [
    "Es de suma importancia saber filtrar una base de datos de manera correcta. Es por ello que usaremos una base de datos específica para demostrar qué podemos hacer en cada situación y diferentes formas que podemos aplicar para estandarizar nuestros datos correctamente. "
   ]
  },
  {
   "cell_type": "code",
   "execution_count": 41,
   "metadata": {},
   "outputs": [],
   "source": [
    "# Importamos librerías básicas\n",
    "import numpy  as np\n",
    "import pandas as pd\n",
    "import matplotlib.pyplot as plt\n",
    "%matplotlib inline"
   ]
  },
  {
   "cell_type": "code",
   "execution_count": 42,
   "metadata": {},
   "outputs": [],
   "source": [
    "# Dando de ejemplo del filtrado de una base de datos, tengo la siguiente la cual se adapta perfectamente para poder solucionar \n",
    "# las situaciones en caso de datos faltantes, inconsistentes, etc.\n",
    "df_ful = pd.read_csv('https://raw.githubusercontent.com/JKiller505/Juliana-Castaneda-Arredondo/refs/heads/main/fulfillment%20avg.csv')"
   ]
  },
  {
   "cell_type": "markdown",
   "metadata": {},
   "source": [
    "### Descripción de los datos"
   ]
  },
  {
   "cell_type": "markdown",
   "metadata": {},
   "source": [
    "Los datos constan de 228 observaciones y 8 variables/columnas. La descripción de las variables es la siguiente:\n",
    "\n",
    "* **loan:** ID de la sucursal\n",
    "* **time:** tiempo de respuesta de desembolso del crédito\n",
    "* **status:** 1 = desembolsado, 2 = solicitado (pendiente de dispersar el crédito)\n",
    "* **age:** edad del cliente\n",
    "* **sex:** sexo del cliente\n",
    "* **sold:** proceso de liquidación del préstamo 0 = saldado, 1 = en proceso, 2 = retraso del pago\n",
    "* **fulfill:** promedio de calificación del cumplimiento del cliente\n",
    "* **payment:** pago mensual    "
   ]
  },
  {
   "cell_type": "code",
   "execution_count": 43,
   "metadata": {},
   "outputs": [
    {
     "data": {
      "text/html": [
       "<div>\n",
       "<style scoped>\n",
       "    .dataframe tbody tr th:only-of-type {\n",
       "        vertical-align: middle;\n",
       "    }\n",
       "\n",
       "    .dataframe tbody tr th {\n",
       "        vertical-align: top;\n",
       "    }\n",
       "\n",
       "    .dataframe thead th {\n",
       "        text-align: right;\n",
       "    }\n",
       "</style>\n",
       "<table border=\"1\" class=\"dataframe\">\n",
       "  <thead>\n",
       "    <tr style=\"text-align: right;\">\n",
       "      <th></th>\n",
       "      <th>loan</th>\n",
       "      <th>time</th>\n",
       "      <th>status</th>\n",
       "      <th>age</th>\n",
       "      <th>sex</th>\n",
       "      <th>sold</th>\n",
       "      <th>fulfill</th>\n",
       "      <th>payment</th>\n",
       "    </tr>\n",
       "  </thead>\n",
       "  <tbody>\n",
       "    <tr>\n",
       "      <th>0</th>\n",
       "      <td>3.0</td>\n",
       "      <td>306</td>\n",
       "      <td>2</td>\n",
       "      <td>74</td>\n",
       "      <td>1</td>\n",
       "      <td>1.0</td>\n",
       "      <td>90.0</td>\n",
       "      <td>1175.0</td>\n",
       "    </tr>\n",
       "    <tr>\n",
       "      <th>1</th>\n",
       "      <td>3.0</td>\n",
       "      <td>455</td>\n",
       "      <td>2</td>\n",
       "      <td>68</td>\n",
       "      <td>1</td>\n",
       "      <td>0.0</td>\n",
       "      <td>90.0</td>\n",
       "      <td>1225.0</td>\n",
       "    </tr>\n",
       "    <tr>\n",
       "      <th>2</th>\n",
       "      <td>3.0</td>\n",
       "      <td>1010</td>\n",
       "      <td>1</td>\n",
       "      <td>56</td>\n",
       "      <td>1</td>\n",
       "      <td>0.0</td>\n",
       "      <td>90.0</td>\n",
       "      <td>NaN</td>\n",
       "    </tr>\n",
       "    <tr>\n",
       "      <th>3</th>\n",
       "      <td>5.0</td>\n",
       "      <td>210</td>\n",
       "      <td>2</td>\n",
       "      <td>57</td>\n",
       "      <td>1</td>\n",
       "      <td>1.0</td>\n",
       "      <td>90.0</td>\n",
       "      <td>1150.0</td>\n",
       "    </tr>\n",
       "    <tr>\n",
       "      <th>4</th>\n",
       "      <td>1.0</td>\n",
       "      <td>883</td>\n",
       "      <td>2</td>\n",
       "      <td>60</td>\n",
       "      <td>1</td>\n",
       "      <td>0.0</td>\n",
       "      <td>100.0</td>\n",
       "      <td>NaN</td>\n",
       "    </tr>\n",
       "  </tbody>\n",
       "</table>\n",
       "</div>"
      ],
      "text/plain": [
       "   loan  time  status  age  sex  sold  fulfill  payment\n",
       "0   3.0   306       2   74    1   1.0     90.0   1175.0\n",
       "1   3.0   455       2   68    1   0.0     90.0   1225.0\n",
       "2   3.0  1010       1   56    1   0.0     90.0      NaN\n",
       "3   5.0   210       2   57    1   1.0     90.0   1150.0\n",
       "4   1.0   883       2   60    1   0.0    100.0      NaN"
      ]
     },
     "execution_count": 43,
     "metadata": {},
     "output_type": "execute_result"
    }
   ],
   "source": [
    "# Primero observamos de manera general como están ordenados nuestros datos\n",
    "df_ful.head()"
   ]
  },
  {
   "cell_type": "markdown",
   "metadata": {},
   "source": [
    "### Depuramos la base\n",
    "\n",
    "Podemos observar varios detalles que a continuación filtraremos:"
   ]
  },
  {
   "cell_type": "code",
   "execution_count": 44,
   "metadata": {},
   "outputs": [],
   "source": [
    "# Por practicidad, acomodamos la columna de status para que ahora sea 0 = desembolsado y 1 = solicitado\n",
    "# De esta manera podemos contar cuántos créditos están pendientes de dispersar (de confirmar su desembolso)\n",
    "df_ful['status'] = df_ful['status']-1\n",
    "\n",
    "# Le restamos 1 a sexo para que ahora 0 sea los hombres y 1 las mujeres\n",
    "df_ful['sex'] = df_ful['sex']-1\n",
    "\n",
    "# No necesitamos la varible loan debido a que es el ID de la sucursal bancaria, entonces la eliminaremos\n",
    "df_ful = df_ful.drop('loan', axis=1) # axis es donde viene el nombre de la columnas en la base de datos"
   ]
  },
  {
   "cell_type": "markdown",
   "metadata": {},
   "source": [
    "Observamos el formato de nuestra base de datos"
   ]
  },
  {
   "cell_type": "code",
   "execution_count": 45,
   "metadata": {},
   "outputs": [
    {
     "data": {
      "text/html": [
       "<div>\n",
       "<style scoped>\n",
       "    .dataframe tbody tr th:only-of-type {\n",
       "        vertical-align: middle;\n",
       "    }\n",
       "\n",
       "    .dataframe tbody tr th {\n",
       "        vertical-align: top;\n",
       "    }\n",
       "\n",
       "    .dataframe thead th {\n",
       "        text-align: right;\n",
       "    }\n",
       "</style>\n",
       "<table border=\"1\" class=\"dataframe\">\n",
       "  <thead>\n",
       "    <tr style=\"text-align: right;\">\n",
       "      <th></th>\n",
       "      <th>time</th>\n",
       "      <th>status</th>\n",
       "      <th>age</th>\n",
       "      <th>sex</th>\n",
       "      <th>sold</th>\n",
       "      <th>fulfill</th>\n",
       "      <th>payment</th>\n",
       "    </tr>\n",
       "  </thead>\n",
       "  <tbody>\n",
       "    <tr>\n",
       "      <th>0</th>\n",
       "      <td>306</td>\n",
       "      <td>1</td>\n",
       "      <td>74</td>\n",
       "      <td>0</td>\n",
       "      <td>1.0</td>\n",
       "      <td>90.0</td>\n",
       "      <td>1175.0</td>\n",
       "    </tr>\n",
       "    <tr>\n",
       "      <th>1</th>\n",
       "      <td>455</td>\n",
       "      <td>1</td>\n",
       "      <td>68</td>\n",
       "      <td>0</td>\n",
       "      <td>0.0</td>\n",
       "      <td>90.0</td>\n",
       "      <td>1225.0</td>\n",
       "    </tr>\n",
       "    <tr>\n",
       "      <th>2</th>\n",
       "      <td>1010</td>\n",
       "      <td>0</td>\n",
       "      <td>56</td>\n",
       "      <td>0</td>\n",
       "      <td>0.0</td>\n",
       "      <td>90.0</td>\n",
       "      <td>NaN</td>\n",
       "    </tr>\n",
       "    <tr>\n",
       "      <th>3</th>\n",
       "      <td>210</td>\n",
       "      <td>1</td>\n",
       "      <td>57</td>\n",
       "      <td>0</td>\n",
       "      <td>1.0</td>\n",
       "      <td>90.0</td>\n",
       "      <td>1150.0</td>\n",
       "    </tr>\n",
       "    <tr>\n",
       "      <th>4</th>\n",
       "      <td>883</td>\n",
       "      <td>1</td>\n",
       "      <td>60</td>\n",
       "      <td>0</td>\n",
       "      <td>0.0</td>\n",
       "      <td>100.0</td>\n",
       "      <td>NaN</td>\n",
       "    </tr>\n",
       "  </tbody>\n",
       "</table>\n",
       "</div>"
      ],
      "text/plain": [
       "   time  status  age  sex  sold  fulfill  payment\n",
       "0   306       1   74    0   1.0     90.0   1175.0\n",
       "1   455       1   68    0   0.0     90.0   1225.0\n",
       "2  1010       0   56    0   0.0     90.0      NaN\n",
       "3   210       1   57    0   1.0     90.0   1150.0\n",
       "4   883       1   60    0   0.0    100.0      NaN"
      ]
     },
     "execution_count": 45,
     "metadata": {},
     "output_type": "execute_result"
    }
   ],
   "source": [
    "df_ful.head()"
   ]
  },
  {
   "cell_type": "code",
   "execution_count": 46,
   "metadata": {},
   "outputs": [
    {
     "data": {
      "text/plain": [
       "time         int64\n",
       "status       int64\n",
       "age          int64\n",
       "sex          int64\n",
       "sold       float64\n",
       "fulfill    float64\n",
       "payment    float64\n",
       "dtype: object"
      ]
     },
     "execution_count": 46,
     "metadata": {},
     "output_type": "execute_result"
    }
   ],
   "source": [
    "# Ahora verificamos que las variables sean númericas \n",
    "df_ful.dtypes"
   ]
  },
  {
   "cell_type": "markdown",
   "metadata": {},
   "source": [
    "Podemos observar que la variable sold es decimal, pero debería de ser un número entero"
   ]
  },
  {
   "cell_type": "code",
   "execution_count": 47,
   "metadata": {},
   "outputs": [
    {
     "data": {
      "text/plain": [
       "time        0\n",
       "status      0\n",
       "age         0\n",
       "sex         0\n",
       "sold        1\n",
       "fulfill     1\n",
       "payment    47\n",
       "dtype: int64"
      ]
     },
     "execution_count": 47,
     "metadata": {},
     "output_type": "execute_result"
    }
   ],
   "source": [
    "# Eliminamos los valores faltantes o missing values\n",
    "df_ful.isnull().sum() #-> para contar cuantos valores perdidos hay\n",
    "\n",
    "# Hay 2 opciones que podmeos tomar en este caso \n",
    "# 1. Imputar (asignar) valores o \n",
    "# 2. Eliminar los valores perdidos\n",
    "# Esto se decide dependiendo de el tamaño de la base y de los valores perdidos que tengamos"
   ]
  },
  {
   "cell_type": "markdown",
   "metadata": {},
   "source": [
    "Podemos observar que, por lo menos tenemos 47 valores perdidos, lo cual representa 1/4 de nuestra muestra. Debido a ello para no perder tantos datos decdimos asignarles nuevos los datos."
   ]
  },
  {
   "cell_type": "code",
   "execution_count": 48,
   "metadata": {},
   "outputs": [],
   "source": [
    "# Vamos a imputar los missing value con ayuda de un promedio y tenemos dos opciones:\n",
    "\n",
    "# Opción 1\n",
    "# df_ful['fulfill'] = df_ful['fulfill'].fillna(df_ful['fulfill'].mean())\n",
    "# fillna va a cambiar los NA por lo que esta dento del paréntesis dentro de la función\n",
    "\n",
    "\n",
    "# Opción 2\n",
    "# Esta opción determina la media de los valores de la base de datos y los rellena\n",
    "mean_payment = df_ful['payment'].mean()\n",
    "\n",
    "df_ful['payment'] =df_ful['payment'].fillna(mean_payment)"
   ]
  },
  {
   "cell_type": "code",
   "execution_count": 49,
   "metadata": {},
   "outputs": [
    {
     "data": {
      "text/html": [
       "<div>\n",
       "<style scoped>\n",
       "    .dataframe tbody tr th:only-of-type {\n",
       "        vertical-align: middle;\n",
       "    }\n",
       "\n",
       "    .dataframe tbody tr th {\n",
       "        vertical-align: top;\n",
       "    }\n",
       "\n",
       "    .dataframe thead th {\n",
       "        text-align: right;\n",
       "    }\n",
       "</style>\n",
       "<table border=\"1\" class=\"dataframe\">\n",
       "  <thead>\n",
       "    <tr style=\"text-align: right;\">\n",
       "      <th></th>\n",
       "      <th>time</th>\n",
       "      <th>status</th>\n",
       "      <th>age</th>\n",
       "      <th>sex</th>\n",
       "      <th>sold</th>\n",
       "      <th>fulfill</th>\n",
       "      <th>payment</th>\n",
       "    </tr>\n",
       "  </thead>\n",
       "  <tbody>\n",
       "    <tr>\n",
       "      <th>0</th>\n",
       "      <td>306</td>\n",
       "      <td>1</td>\n",
       "      <td>74</td>\n",
       "      <td>0</td>\n",
       "      <td>1.0</td>\n",
       "      <td>90.0</td>\n",
       "      <td>1175.000000</td>\n",
       "    </tr>\n",
       "    <tr>\n",
       "      <th>1</th>\n",
       "      <td>455</td>\n",
       "      <td>1</td>\n",
       "      <td>68</td>\n",
       "      <td>0</td>\n",
       "      <td>0.0</td>\n",
       "      <td>90.0</td>\n",
       "      <td>1225.000000</td>\n",
       "    </tr>\n",
       "    <tr>\n",
       "      <th>2</th>\n",
       "      <td>1010</td>\n",
       "      <td>0</td>\n",
       "      <td>56</td>\n",
       "      <td>0</td>\n",
       "      <td>0.0</td>\n",
       "      <td>90.0</td>\n",
       "      <td>928.779006</td>\n",
       "    </tr>\n",
       "    <tr>\n",
       "      <th>3</th>\n",
       "      <td>210</td>\n",
       "      <td>1</td>\n",
       "      <td>57</td>\n",
       "      <td>0</td>\n",
       "      <td>1.0</td>\n",
       "      <td>90.0</td>\n",
       "      <td>1150.000000</td>\n",
       "    </tr>\n",
       "    <tr>\n",
       "      <th>4</th>\n",
       "      <td>883</td>\n",
       "      <td>1</td>\n",
       "      <td>60</td>\n",
       "      <td>0</td>\n",
       "      <td>0.0</td>\n",
       "      <td>100.0</td>\n",
       "      <td>928.779006</td>\n",
       "    </tr>\n",
       "  </tbody>\n",
       "</table>\n",
       "</div>"
      ],
      "text/plain": [
       "   time  status  age  sex  sold  fulfill      payment\n",
       "0   306       1   74    0   1.0     90.0  1175.000000\n",
       "1   455       1   68    0   0.0     90.0  1225.000000\n",
       "2  1010       0   56    0   0.0     90.0   928.779006\n",
       "3   210       1   57    0   1.0     90.0  1150.000000\n",
       "4   883       1   60    0   0.0    100.0   928.779006"
      ]
     },
     "execution_count": 49,
     "metadata": {},
     "output_type": "execute_result"
    }
   ],
   "source": [
    "# Observamos nuevamente la base de datos y vemos que los datos vacíos se han ido (Nan) en la columna payment\n",
    "df_ful.head()"
   ]
  },
  {
   "cell_type": "code",
   "execution_count": 50,
   "metadata": {},
   "outputs": [
    {
     "data": {
      "text/plain": [
       "time       0\n",
       "status     0\n",
       "age        0\n",
       "sex        0\n",
       "sold       1\n",
       "fulfill    1\n",
       "payment    0\n",
       "dtype: int64"
      ]
     },
     "execution_count": 50,
     "metadata": {},
     "output_type": "execute_result"
    }
   ],
   "source": [
    "# Observamos si quedan valores nulos en las otras columnas\n",
    "df_ful.isnull().sum()"
   ]
  },
  {
   "cell_type": "markdown",
   "metadata": {},
   "source": [
    "Podemos observar que quedan muy pocos valores nulos en las columnas de sold y fulfill, por lo tanto, se eliminan."
   ]
  },
  {
   "cell_type": "code",
   "execution_count": 51,
   "metadata": {},
   "outputs": [],
   "source": [
    "# Eliminar missing values \n",
    "df_ful = df_ful.dropna()"
   ]
  },
  {
   "cell_type": "code",
   "execution_count": 52,
   "metadata": {},
   "outputs": [
    {
     "data": {
      "text/plain": [
       "time       0\n",
       "status     0\n",
       "age        0\n",
       "sex        0\n",
       "sold       0\n",
       "fulfill    0\n",
       "payment    0\n",
       "dtype: int64"
      ]
     },
     "execution_count": 52,
     "metadata": {},
     "output_type": "execute_result"
    }
   ],
   "source": [
    "# Verificamos nuevamente si quedan valores nulos en la base de datos\n",
    "df_ful.isnull().sum()"
   ]
  },
  {
   "cell_type": "markdown",
   "metadata": {},
   "source": [
    "Ya que nuestros datos son consistentes y no hay valores vacíos, podemos continuar con el análisis de nuestra base de datos. Como conlusión también puedo añadir que es de suma importancia que nuestros datos sean obtenidos mediante fuentes confiables."
   ]
  }
 ],
 "metadata": {
  "kernelspec": {
   "display_name": "Python 3",
   "language": "python",
   "name": "python3"
  },
  "language_info": {
   "codemirror_mode": {
    "name": "ipython",
    "version": 3
   },
   "file_extension": ".py",
   "mimetype": "text/x-python",
   "name": "python",
   "nbconvert_exporter": "python",
   "pygments_lexer": "ipython3",
   "version": "3.11.5"
  }
 },
 "nbformat": 4,
 "nbformat_minor": 2
}
