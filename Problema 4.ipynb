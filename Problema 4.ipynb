{
 "cells": [
  {
   "cell_type": "markdown",
   "metadata": {},
   "source": [
    "## **GESTIÓN DE DATOS**\n",
    "\n",
    " **Nombre:** Juliana Castañeda Arredondo"
   ]
  },
  {
   "cell_type": "markdown",
   "metadata": {},
   "source": [
    "### ***PROBLEMA 4***\n",
    "\n",
    "##### **I) Dado un diccionario de productos cualesquiera que contiene el nombre de un productoarbitrario como clave y una lista de tuplas como valor, donde cada tupla representa un pedido, con la cantidad y el precio por unidad, de la siguiente manera:**\n",
    "\n",
    "Productos = { \n",
    "P1: [x1 = (10,1.5), x2 = (3, 1.4) , x3 = (5, 1.6)]\n",
    "\n",
    "P2: [x1 = (7, 2.1), x2 = (2, 2.0), x3 = (1, 2.2), x4 = (NA, NA)]\n",
    "\n",
    "P3: [x1= (12, 1.7), x2 = (8, 1.6), x3 = (3, 1.8)] \n",
    "}\n",
    "\n",
    "Escribe una función que retorne un diccionario con el nombre de cada producto Pi y el precio total de dicho producto.\n"
   ]
  },
  {
   "cell_type": "code",
   "execution_count": 10,
   "metadata": {},
   "outputs": [],
   "source": [
    "# Realizamos el cálculo de nuestra función multiplicando cantidades por el precio por unidad.\n",
    "def calcular_precio(productos):\n",
    "    return {producto: round(sum(cantidad * precio for cantidad, precio in pedidos if cantidad and precio), 2) for producto, pedidos in productos.items()}"
   ]
  },
  {
   "cell_type": "code",
   "execution_count": 11,
   "metadata": {},
   "outputs": [
    {
     "data": {
      "text/plain": [
       "{'P1': 27.2, 'P2': 20.9, 'P3': 38.6}"
      ]
     },
     "execution_count": 11,
     "metadata": {},
     "output_type": "execute_result"
    }
   ],
   "source": [
    "# Ingresamos nuestra lista\n",
    "productos = { \n",
    "    \"P1\": [(10, 1.5), (3, 1.4), (5, 1.6)],\n",
    "    \"P2\": [(7, 2.1), (2, 2.0), (1, 2.2), (None, None)],\n",
    "    \"P3\": [(12, 1.7), (8, 1.6), (3, 1.8)] \n",
    "}\n",
    "\n",
    "# La función que nos arroja los precios de los productos\n",
    "resultado = calcular_precio(productos)\n",
    "\n",
    "# Imprimimos resultados\n",
    "resultado"
   ]
  },
  {
   "cell_type": "markdown",
   "metadata": {},
   "source": [
    "#### **II) Dado un diccionario anidado como el siguiente:**\n",
    "\n",
    "Elementos = {\n",
    "e1: [v1: 8, v2: 7, v3:6],\n",
    "\n",
    "e2: [v1: 9, v2: 6, v3:7],\n",
    "\n",
    "e3: [v1: 7, v2: 8, v3:8]\n",
    "}\n",
    "\n",
    "Escribe una función que determine que ei tiene el promedio más alto y además pueda ordenar los diccionarios anteriores"
   ]
  },
  {
   "cell_type": "code",
   "execution_count": 23,
   "metadata": {},
   "outputs": [],
   "source": [
    "# Definimos elementos como diccionario\n",
    "def leer_elementos(elementos):\n",
    "\n",
    "# Calculamos el promedio de cada elemento tomando en cuenta que e = nombre del elemento, v = valores dentro del diccionario\n",
    "    promedios = {e: sum(v.values()) / len(v) for e, v in elementos.items()}\n",
    "\n",
    "    # Esta función busca el valor más alto en la clave de promedios\n",
    "    max_promedio = max(promedios, key=promedios.get)\n",
    "\n",
    "    # Ordenamos los elementos en orden descendente\n",
    "    elementos_orden = {k: elementos[k] for k in sorted(promedios, key=promedios.get, reverse=True)}    # el ciclo for se encarga de iterar por cada clave\n",
    "    return max_promedio, promedios[max_promedio], elementos_orden"
   ]
  },
  {
   "cell_type": "code",
   "execution_count": 24,
   "metadata": {},
   "outputs": [
    {
     "name": "stdout",
     "output_type": "stream",
     "text": [
      "Elemento con el promedio más alto: e3\n",
      "Promedio: 7.67\n",
      "Ordenados por promedio descendente:\n",
      "e3: {'v1': 7, 'v2': 8, 'v3': 8}\n",
      "e2: {'v1': 9, 'v2': 6, 'v3': 7}\n",
      "e1: {'v1': 8, 'v2': 7, 'v3': 6}\n"
     ]
    }
   ],
   "source": [
    "# Ingresamos nuestra lista\n",
    "elementos = {\n",
    "    \"e1\": {\"v1\": 8, \"v2\": 7, \"v3\": 6},\n",
    "    \"e2\": {\"v1\": 9, \"v2\": 6, \"v3\": 7},\n",
    "    \"e3\": {\"v1\": 7, \"v2\": 8, \"v3\": 8},\n",
    "}\n",
    "\n",
    "# La función que nos arroja el promedio más alto\n",
    "elemento_max, promedio_max, elementos_orden = leer_elementos(elementos)\n",
    "\n",
    "# Mostrar resultados\n",
    "print(f\"Elemento con el promedio más alto: {elemento_max}\") \n",
    "print(f\"Promedio: {promedio_max:.2f}\")\n",
    "print(\"Ordenados por promedio descendente:\")\n",
    "for elemento, valores in elementos_orden.items():\n",
    "    print(f\"{elemento}: {valores}\")"
   ]
  },
  {
   "cell_type": "markdown",
   "metadata": {},
   "source": [
    "#### **III) Usando comprensión de listas y diccionarios, reescribe la función anterior para que el código sea más eficiente y compacto. El usuario debe ser capaz de escoger si solo quiere ordenar los valores de los diccionarios, mostrar el promedio o ambos**"
   ]
  },
  {
   "cell_type": "code",
   "execution_count": 31,
   "metadata": {},
   "outputs": [],
   "source": [
    "# Definimos elementos como diccionario\n",
    "def leer_elementos(elementos, mostrar_promedio=True, ordenar_diccionario=True):\n",
    "\n",
    "    # Calculamos el promedio de cada elemento tomando en cuenta que e = nombre del elemento, v = valores dentro del diccionario\n",
    "    promedios = {e: sum(v.values()) / len(v) for e, v in elementos.items()}\n",
    "\n",
    "    resultados = {}\n",
    "    if mostrar_promedio:\n",
    "        # Ubicar el valor más alto en los promedios obtenidos\n",
    "        max_promedio = max(promedios, key=promedios.get)\n",
    "        resultados[\"promedio_max\"] = (max_promedio, promedios[max_promedio])\n",
    "\n",
    "    if ordenar_diccionario:\n",
    "        # Ordenamos los elementos en orden descendente\n",
    "        elementos_orden = {k: elementos[k] for k in sorted(promedios, key=promedios.get, reverse=True)}\n",
    "        resultados[\"elementos_ordenados\"] = elementos_orden\n",
    "\n",
    "    return resultados"
   ]
  },
  {
   "cell_type": "code",
   "execution_count": 32,
   "metadata": {},
   "outputs": [],
   "source": [
    "# Lectura de Datos iniciales\n",
    "elementos = {\n",
    "    \"e1\": {\"v1\": 8, \"v2\": 7, \"v3\": 6},\n",
    "    \"e2\": {\"v1\": 9, \"v2\": 6, \"v3\": 7},\n",
    "    \"e3\": {\"v1\": 7, \"v2\": 8, \"v3\": 8},\n",
    "}"
   ]
  },
  {
   "cell_type": "markdown",
   "metadata": {},
   "source": [
    "Ahora para decidir que datos mostrar, en la siguiente línea podemos poner True o False en dado caso de que queramos obtener el promedio, los valores de los diccionarios o ambos."
   ]
  },
  {
   "cell_type": "code",
   "execution_count": 33,
   "metadata": {},
   "outputs": [],
   "source": [
    "# Arrojamos resultados y por lo pronto mostraremos dos (promedio y le daremos orden)\n",
    "resultados = leer_elementos(elementos, mostrar_promedio=True, ordenar_diccionario=True)"
   ]
  },
  {
   "cell_type": "code",
   "execution_count": 34,
   "metadata": {},
   "outputs": [
    {
     "name": "stdout",
     "output_type": "stream",
     "text": [
      "Elemento con el promedio más alto: e3\n",
      "Promedio: 7.67\n",
      "Ordenados por promedio descendente:\n",
      "e3: {'v1': 7, 'v2': 8, 'v3': 8}\n",
      "e2: {'v1': 9, 'v2': 6, 'v3': 7}\n",
      "e1: {'v1': 8, 'v2': 7, 'v3': 6}\n"
     ]
    }
   ],
   "source": [
    "# El promedio más alto\n",
    "if \"promedio_max\" in resultados:\n",
    "    print(f\"Elemento con el promedio más alto: {resultados['promedio_max'][0]}\") \n",
    "    print(f\"Promedio: {resultados['promedio_max'][1]:.2f}\")\n",
    "\n",
    "# Mostramos los elementos ordenados de manera descendente\n",
    "if \"elementos_ordenados\" in resultados:\n",
    "    print(\"Ordenados por promedio descendente:\")\n",
    "    for elemento, valores in resultados[\"elementos_ordenados\"].items():\n",
    "        print(f\"{elemento}: {valores}\")"
   ]
  }
 ],
 "metadata": {
  "kernelspec": {
   "display_name": "Python 3",
   "language": "python",
   "name": "python3"
  },
  "language_info": {
   "codemirror_mode": {
    "name": "ipython",
    "version": 3
   },
   "file_extension": ".py",
   "mimetype": "text/x-python",
   "name": "python",
   "nbconvert_exporter": "python",
   "pygments_lexer": "ipython3",
   "version": "3.11.5"
  }
 },
 "nbformat": 4,
 "nbformat_minor": 2
}
