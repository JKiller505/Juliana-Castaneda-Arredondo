{
 "cells": [
  {
   "cell_type": "markdown",
   "metadata": {},
   "source": [
    "## **GESTIÓN DE DATOS**\n",
    "\n",
    " **Nombre:** Juliana Castañeda Arredondo"
   ]
  },
  {
   "cell_type": "markdown",
   "metadata": {},
   "source": [
    "### ***PROBLEMA 3***\n",
    "\n",
    "##### **I) Diseña una clase que modele la estructura de un banco con diferentes tipos de cuentas bancarias como se muestra a continuación:**\n"
   ]
  },
  {
   "cell_type": "markdown",
   "metadata": {},
   "source": [
    "**Clase Banco:** Contiene una lista de clientes, donde cada cliente tiene una cuenta bancaria.\n",
    "\n",
    "**Clase Cliente:** Cada cliente tiene un nombre y una cuenta.\n",
    "\n",
    "**Clase Cuenta:** Tiene atributos como número de cuenta y saldo."
   ]
  },
  {
   "cell_type": "code",
   "execution_count": 173,
   "metadata": {},
   "outputs": [],
   "source": [
    "# Librerías básicas\n",
    "import pandas as pd\n",
    "import matplotlib.pyplot as plt\n",
    "import seaborn as sns\n",
    "from datetime import datetime"
   ]
  },
  {
   "cell_type": "markdown",
   "metadata": {},
   "source": [
    "##### **II) Añade un método en la clase Banco que permita transferir dinero entre dos cuentas de clientes diferentes. Si la cuenta origen es una Cuenta Corriente y se produce un sobregiro, se debe aplicar la penalización automáticamente.**"
   ]
  },
  {
   "cell_type": "code",
   "execution_count": 174,
   "metadata": {},
   "outputs": [],
   "source": [
    "# Primero debemos definir la clase la cual poseen los datos de los clientes\n",
    "\n",
    "\n",
    "class Clientes:\n",
    "    def __init__(self, numero_cuenta, nombre, tipo_cuenta, saldo=0):   # Se tiene que aclarar que el saldo inicia en cero\n",
    "\n",
    "        # Agregamos los atributos\n",
    "        self.numero_cuenta = numero_cuenta       # Número de cuenta del cliente (0001,0002,...)\n",
    "        self.nombre = nombre                     # Nombre del cliente\n",
    "        self.tipo_cuenta = tipo_cuenta.tipo      # Tipo de cuenta: Cuenta Corriente o Cuenta de Ahorros\n",
    "        self.saldo = saldo                       # Saldo de la cuenta\n",
    "        \n",
    "        self.movimientos = []                    # Lo marcamos para después imprimir los movimientos de los clientes (retirar o depositar)\n",
    "                                                 # es una lista vacía.\n",
    "\n",
    "    \n",
    "\n",
    "\n",
    "    # -------------------- DEPÓSITOS A OTRAS CUENTAS --------------------\n",
    "\n",
    "\n",
    "    # Se verifica si existe un receptor ya registrado en nuestra base de datos\n",
    "    def depositar(self, monto, receptor_numero_cuenta, clientes):\n",
    "        receptor = next((cliente for cliente in clientes if cliente.numero_cuenta == receptor_numero_cuenta), None)\n",
    "    \n",
    "        if receptor is None:\n",
    "            print(f\"ERROR: El receptor con número de cuenta {receptor_numero_cuenta} no existe en la base de datos.\")\n",
    "            return\n",
    "\n",
    "        self.saldo -= monto                         # El saldo del emisor se reduce \n",
    "        receptor.saldo += monto                     # El saldo del receptor incrementa \n",
    "    \n",
    "\n",
    "\n",
    "        # EMISOR\n",
    "        movimiento_emisor = {\n",
    "            'Fecha': datetime.now(),                     # Registramos la fecha en la que se realizaron movimientos para después registrarlos\n",
    "            'Cliente': self.nombre,\n",
    "            'Tipo de Cuenta': self.tipo_cuenta,          # Cuenta Corriente o Cuenta de Ahorros      \n",
    "            'Saldo': self.saldo,                         # Saldo final tras hacer el depósito a otra cuenta         \n",
    "            'Tipo de Movimiento': 'Deposito a tercero',\n",
    "            'Monto': monto,                              # Monto depositado/transferido\n",
    "            'Receptor': receptor.nombre\n",
    "        }\n",
    "        self.movimientos.append(movimiento_emisor)       # Con append vamos modificando la tabla de \"movimientos\" del emisor\n",
    "    \n",
    "        # RECEPTOR\n",
    "        movimiento_receptor = {\n",
    "            'Fecha': datetime.now(),\n",
    "            'Cliente': receptor.nombre,\n",
    "            'Tipo de Cuenta': receptor.tipo_cuenta,\n",
    "            'Saldo': receptor.saldo,\n",
    "            'Tipo de Movimiento': 'Deposito recibido',\n",
    "            'Monto': monto,\n",
    "            'Emisor': self.nombre\n",
    "        }\n",
    "        receptor.movimientos.append(movimiento_receptor)  # Con append vamos modificando la tabla de \"movimientos\" del receptor\n",
    "\n",
    "    \n",
    "\n",
    "\n",
    "    # -------------------- RETIROS --------------------\n",
    "    \n",
    "    # Definimos como se van a realizar los retiros de efectivo\n",
    "    def retirar(self, monto):\n",
    "\n",
    "\n",
    "       \n",
    "        # ---------- CUENTA CORRIENTE ------------\n",
    "\n",
    "        if self.tipo_cuenta == 'Corriente':\n",
    "            saldo_resultante = self.saldo - monto\n",
    "            if saldo_resultante >= -1000:                           # Determinamos que el saldo negativo debe ser de mil pesos \n",
    "                self.saldo -= monto                                 # El saldo disminuye al momento de retirar efectivo\n",
    "                if self.saldo < 0:\n",
    "                    penalizacion = abs(self.saldo) * 0.07           # Si el saldo es negativo, se aplica una penalización del 7% del monto retirado\n",
    "                    self.saldo -= penalizacion\n",
    "                    tipo_movimiento = 'Retiro con penalizacion'\n",
    "                else:\n",
    "                    tipo_movimiento = 'Retiro'                      # Si el saldo no tiene penalización, es retiro normal\n",
    "                movimiento = {\n",
    "                    'Fecha': datetime.now(),\n",
    "                    'Cliente': self.nombre,\n",
    "                    'Tipo de Cuenta': self.tipo_cuenta,\n",
    "                    'Saldo': self.saldo,\n",
    "                    'Tipo de Movimiento': tipo_movimiento,\n",
    "                    'Monto': monto\n",
    "                }\n",
    "                self.movimientos.append(movimiento)                 # Con append vamos modificando la tabla de \"movimientos\"\n",
    "            else:\n",
    "                print(\"ERROR: No puede retirar dinero. El saldo no puede ser menor que menos mil pesos (-$1000).\")\n",
    "\n",
    "\n",
    "\n",
    "        # ---------- CUENTA DE AHORRO ------------\n",
    "\n",
    "        else:  \n",
    "            if monto <= self.saldo:\n",
    "                self.saldo -= monto                                # El saldo disminuye al momento de retirar efectivo\n",
    "                tipo_movimiento = 'Retiro'\n",
    "            else:\n",
    "                print(\"ERROR: Fondos insuficientes en una cuenta de ahorros.\")\n",
    "                return\n",
    "\n",
    "        movimiento = {\n",
    "            'Fecha': datetime.now(),\n",
    "            'Cliente': self.nombre,\n",
    "            'Tipo de Cuenta': self.tipo_cuenta,\n",
    "            'Saldo': self.saldo,\n",
    "            'Tipo de Movimiento': tipo_movimiento,\n",
    "            'Monto': monto\n",
    "        }\n",
    "        self.movimientos.append(movimiento)                       # Con append vamos modificando la tabla de \"movimientos\""
   ]
  },
  {
   "cell_type": "markdown",
   "metadata": {},
   "source": [
    "**Cuenta Corriente:** debe permitir retirar dinero, incluso si el saldo es menor que el monto\n",
    "solicitado (permitiendo un saldo negativo), pero con una penalización del 7% sobre el monto\n",
    "del sobregiro."
   ]
  },
  {
   "cell_type": "code",
   "execution_count": 175,
   "metadata": {},
   "outputs": [],
   "source": [
    "class CuentaCorriente:\n",
    "    def __init__(self):\n",
    "        self.tipo = 'Corriente'\n",
    "        self.limite_sobregiro = -1000\n",
    "\n",
    "cuenta_corriente = CuentaCorriente()"
   ]
  },
  {
   "cell_type": "markdown",
   "metadata": {},
   "source": [
    "**NOTA:** El límite de saldo negativo para la ***cuenta corriente*** es de mil pesos (-$1000)."
   ]
  },
  {
   "cell_type": "markdown",
   "metadata": {},
   "source": [
    "**Cuenta Ahorros:** No permite sobregiros, pero acumula intereses mensuales a una tasa fija."
   ]
  },
  {
   "cell_type": "code",
   "execution_count": 176,
   "metadata": {},
   "outputs": [],
   "source": [
    "class CuentaAhorros:\n",
    "    def __init__(self):\n",
    "        self.tipo = 'Ahorros'\n",
    "        self.tasa_interes = 0.02\n",
    "\n",
    "cuenta_ahorros = CuentaAhorros()"
   ]
  },
  {
   "cell_type": "markdown",
   "metadata": {},
   "source": [
    "**NOTA:** La tasa de interés para la ***cuenta de ahorros*** es del 2%."
   ]
  },
  {
   "cell_type": "markdown",
   "metadata": {},
   "source": [
    "#### ***Características a implementar:***\n",
    "\n",
    "\n",
    "**Cliente:** Debe contener atributos como nombre y su cuenta bancaria asociada (puede ser de\n",
    "cualquiera de los dos tipos: Cuenta Corriente o Cuenta Ahorros)."
   ]
  },
  {
   "cell_type": "code",
   "execution_count": 177,
   "metadata": {},
   "outputs": [],
   "source": [
    "# Realizamos la creación de un dataframe con la información de todos los clientes \n",
    "\n",
    "def crear_dataframe_clientes(clientes):\n",
    "    data = {\n",
    "        'Nombre': [cliente.nombre for cliente in clientes],\n",
    "        'Tipo de Cuenta': [cliente.tipo_cuenta for cliente in clientes],\n",
    "        'Numero de Cuenta': [cliente.numero_cuenta for cliente in clientes],\n",
    "        'Saldo': [cliente.saldo for cliente in clientes],\n",
    "        'Fecha de Transaccion': [datetime.now() for _ in clientes]\n",
    "    }\n",
    "    df = pd.DataFrame(data)\n",
    "    return df"
   ]
  },
  {
   "cell_type": "markdown",
   "metadata": {},
   "source": [
    "**Banco:** Debe poder agregar clientes (y sus cuentas) a la lista de clientes"
   ]
  },
  {
   "cell_type": "code",
   "execution_count": 178,
   "metadata": {},
   "outputs": [],
   "source": [
    "# Realizamos un dataframe que nos permita añadir clientes\n",
    "\n",
    "def agregar_cliente(cliente):\n",
    "    nuevo_cliente = pd.DataFrame([{\n",
    "        'Nombre': cliente.nombre,\n",
    "        'Tipo de Cuenta': cliente.tipo_cuenta,\n",
    "        'Numero de Cuenta': cliente.numero_cuenta,\n",
    "        'Saldo': cliente.saldo,\n",
    "        'Fecha de Transaccion': datetime.now()\n",
    "    }])\n",
    "    global df_clientes\n",
    "    \n",
    "    df_clientes = pd.concat([df_clientes, nuevo_cliente], ignore_index=True)"
   ]
  },
  {
   "cell_type": "markdown",
   "metadata": {},
   "source": [
    "Tiene métodos como depositar(monto) y retirar(monto)"
   ]
  },
  {
   "cell_type": "code",
   "execution_count": 179,
   "metadata": {},
   "outputs": [],
   "source": [
    "# Función para registrar los movimientos de todos los clientes\n",
    "def registrar_movimientos(clientes):\n",
    "    movimientos = []\n",
    "    for cliente in clientes:\n",
    "        movimientos.extend(cliente.movimientos)\n",
    "    df_movimientos = pd.DataFrame(movimientos, columns=['Fecha', 'Cliente', 'Tipo de Cuenta', 'Tipo de Movimiento', 'Monto'])\n",
    "    return df_movimientos"
   ]
  },
  {
   "cell_type": "code",
   "execution_count": 180,
   "metadata": {},
   "outputs": [],
   "source": [
    "# Crear una lista inicial de clientes con número de cuenta y saldo inicial\n",
    "clientes = [ ]"
   ]
  },
  {
   "cell_type": "code",
   "execution_count": 181,
   "metadata": {},
   "outputs": [],
   "source": [
    "# Crear el DataFrame inicial de clientes\n",
    "df_clientes = crear_dataframe_clientes(clientes)"
   ]
  },
  {
   "cell_type": "code",
   "execution_count": 182,
   "metadata": {},
   "outputs": [],
   "source": [
    "# Registrar y mostrar los movimientos de todos los clientes\n",
    "df_movimientos = registrar_movimientos(clientes)"
   ]
  },
  {
   "cell_type": "markdown",
   "metadata": {},
   "source": [
    "### **APLICACIÓN DEL REGISTRO DE CLIENTES**"
   ]
  },
  {
   "cell_type": "markdown",
   "metadata": {},
   "source": [
    "**REGISTRO DE CLIENTES**\n",
    "\n",
    "Vamos ahora a registrar datos de varios clientes para ver su funcionamiento:"
   ]
  },
  {
   "cell_type": "code",
   "execution_count": 183,
   "metadata": {},
   "outputs": [
    {
     "data": {
      "text/html": [
       "<div>\n",
       "<style scoped>\n",
       "    .dataframe tbody tr th:only-of-type {\n",
       "        vertical-align: middle;\n",
       "    }\n",
       "\n",
       "    .dataframe tbody tr th {\n",
       "        vertical-align: top;\n",
       "    }\n",
       "\n",
       "    .dataframe thead th {\n",
       "        text-align: right;\n",
       "    }\n",
       "</style>\n",
       "<table border=\"1\" class=\"dataframe\">\n",
       "  <thead>\n",
       "    <tr style=\"text-align: right;\">\n",
       "      <th></th>\n",
       "      <th>Nombre</th>\n",
       "      <th>Tipo de Cuenta</th>\n",
       "      <th>Numero de Cuenta</th>\n",
       "      <th>Saldo</th>\n",
       "      <th>Fecha de Transaccion</th>\n",
       "    </tr>\n",
       "  </thead>\n",
       "  <tbody>\n",
       "    <tr>\n",
       "      <th>0</th>\n",
       "      <td>Juliana Castaneda</td>\n",
       "      <td>Ahorros</td>\n",
       "      <td>0001</td>\n",
       "      <td>500</td>\n",
       "      <td>2024-12-26 23:20:30.848667</td>\n",
       "    </tr>\n",
       "    <tr>\n",
       "      <th>1</th>\n",
       "      <td>Ana Laura Ruiz</td>\n",
       "      <td>Corriente</td>\n",
       "      <td>0002</td>\n",
       "      <td>1500</td>\n",
       "      <td>2024-12-26 23:20:30.848667</td>\n",
       "    </tr>\n",
       "  </tbody>\n",
       "</table>\n",
       "</div>"
      ],
      "text/plain": [
       "              Nombre Tipo de Cuenta Numero de Cuenta  Saldo  \\\n",
       "0  Juliana Castaneda        Ahorros             0001    500   \n",
       "1     Ana Laura Ruiz      Corriente             0002   1500   \n",
       "\n",
       "        Fecha de Transaccion  \n",
       "0 2024-12-26 23:20:30.848667  \n",
       "1 2024-12-26 23:20:30.848667  "
      ]
     },
     "execution_count": 183,
     "metadata": {},
     "output_type": "execute_result"
    }
   ],
   "source": [
    "# ------------ REGISTRO DE CLIENTES ------------\n",
    "\n",
    "# Agregamos dos clientes\n",
    "\n",
    "cliente1 = Clientes(\"0001\", \"Juliana Castaneda\", cuenta_ahorros, 500)\n",
    "cliente2 = Clientes(\"0002\", \"Ana Laura Ruiz\", cuenta_corriente, 1500)\n",
    "\n",
    "clientes.append(cliente1)\n",
    "clientes.append(cliente2)\n",
    "\n",
    "\n",
    "# Actualizar y mostrar la información de los clientes y sus movimientos\n",
    "df_clientes = crear_dataframe_clientes(clientes)\n",
    "df_clientes                                         # Muestra información de los clientes antes de las transacciones"
   ]
  },
  {
   "cell_type": "markdown",
   "metadata": {},
   "source": [
    "Esto nos arroja los clientes registrados previamente donde tenemos los siguientes datos:\n",
    "\n",
    "* Nombre\n",
    "* Tipo de cuenta\n",
    "* Número de cuenta\n",
    "* Saldo actual del cliente\n",
    "* Fecha de registro"
   ]
  },
  {
   "cell_type": "markdown",
   "metadata": {},
   "source": [
    "**REGISTRO DE TRANSACCIONES**\n",
    "\n",
    "Vamos ahora a realizar un **depósito**:"
   ]
  },
  {
   "cell_type": "code",
   "execution_count": 184,
   "metadata": {},
   "outputs": [
    {
     "data": {
      "text/html": [
       "<div>\n",
       "<style scoped>\n",
       "    .dataframe tbody tr th:only-of-type {\n",
       "        vertical-align: middle;\n",
       "    }\n",
       "\n",
       "    .dataframe tbody tr th {\n",
       "        vertical-align: top;\n",
       "    }\n",
       "\n",
       "    .dataframe thead th {\n",
       "        text-align: right;\n",
       "    }\n",
       "</style>\n",
       "<table border=\"1\" class=\"dataframe\">\n",
       "  <thead>\n",
       "    <tr style=\"text-align: right;\">\n",
       "      <th></th>\n",
       "      <th>Fecha</th>\n",
       "      <th>Cliente</th>\n",
       "      <th>Tipo de Cuenta</th>\n",
       "      <th>Tipo de Movimiento</th>\n",
       "      <th>Monto</th>\n",
       "    </tr>\n",
       "  </thead>\n",
       "  <tbody>\n",
       "    <tr>\n",
       "      <th>0</th>\n",
       "      <td>2024-12-26 23:20:30.945597</td>\n",
       "      <td>Juliana Castaneda</td>\n",
       "      <td>Ahorros</td>\n",
       "      <td>Deposito a tercero</td>\n",
       "      <td>200</td>\n",
       "    </tr>\n",
       "    <tr>\n",
       "      <th>1</th>\n",
       "      <td>2024-12-26 23:20:30.945597</td>\n",
       "      <td>Ana Laura Ruiz</td>\n",
       "      <td>Corriente</td>\n",
       "      <td>Deposito recibido</td>\n",
       "      <td>200</td>\n",
       "    </tr>\n",
       "  </tbody>\n",
       "</table>\n",
       "</div>"
      ],
      "text/plain": [
       "                       Fecha            Cliente Tipo de Cuenta  \\\n",
       "0 2024-12-26 23:20:30.945597  Juliana Castaneda        Ahorros   \n",
       "1 2024-12-26 23:20:30.945597     Ana Laura Ruiz      Corriente   \n",
       "\n",
       "   Tipo de Movimiento  Monto  \n",
       "0  Deposito a tercero    200  \n",
       "1   Deposito recibido    200  "
      ]
     },
     "execution_count": 184,
     "metadata": {},
     "output_type": "execute_result"
    }
   ],
   "source": [
    "# ------------ DEPÓSITOS ------------\n",
    "\n",
    "cliente1.depositar(200, \"0002\", clientes)  # Juliana Castañeda deposita $200 a Ana Laura Ruiz\n",
    "\n",
    "\n",
    "# Actualizar DataFrame de clientes después del depósito\n",
    "\n",
    "df_clientes = crear_dataframe_clientes(clientes)\n",
    "\n",
    "df_movimientos = registrar_movimientos(clientes)\n",
    "df_movimientos "
   ]
  },
  {
   "cell_type": "markdown",
   "metadata": {},
   "source": [
    "La anterior tabla nos muestra la cantidad de movimientos realizados."
   ]
  },
  {
   "cell_type": "markdown",
   "metadata": {},
   "source": [
    "Ahora vamos a actualizar la base de datos de los clientes para ver cuánto saldo tiene cada uno."
   ]
  },
  {
   "cell_type": "code",
   "execution_count": 185,
   "metadata": {},
   "outputs": [
    {
     "data": {
      "text/html": [
       "<div>\n",
       "<style scoped>\n",
       "    .dataframe tbody tr th:only-of-type {\n",
       "        vertical-align: middle;\n",
       "    }\n",
       "\n",
       "    .dataframe tbody tr th {\n",
       "        vertical-align: top;\n",
       "    }\n",
       "\n",
       "    .dataframe thead th {\n",
       "        text-align: right;\n",
       "    }\n",
       "</style>\n",
       "<table border=\"1\" class=\"dataframe\">\n",
       "  <thead>\n",
       "    <tr style=\"text-align: right;\">\n",
       "      <th></th>\n",
       "      <th>Nombre</th>\n",
       "      <th>Tipo de Cuenta</th>\n",
       "      <th>Numero de Cuenta</th>\n",
       "      <th>Saldo</th>\n",
       "      <th>Fecha de Transaccion</th>\n",
       "    </tr>\n",
       "  </thead>\n",
       "  <tbody>\n",
       "    <tr>\n",
       "      <th>0</th>\n",
       "      <td>Juliana Castaneda</td>\n",
       "      <td>Ahorros</td>\n",
       "      <td>0001</td>\n",
       "      <td>300</td>\n",
       "      <td>2024-12-26 23:20:30.945597</td>\n",
       "    </tr>\n",
       "    <tr>\n",
       "      <th>1</th>\n",
       "      <td>Ana Laura Ruiz</td>\n",
       "      <td>Corriente</td>\n",
       "      <td>0002</td>\n",
       "      <td>1700</td>\n",
       "      <td>2024-12-26 23:20:30.945597</td>\n",
       "    </tr>\n",
       "  </tbody>\n",
       "</table>\n",
       "</div>"
      ],
      "text/plain": [
       "              Nombre Tipo de Cuenta Numero de Cuenta  Saldo  \\\n",
       "0  Juliana Castaneda        Ahorros             0001    300   \n",
       "1     Ana Laura Ruiz      Corriente             0002   1700   \n",
       "\n",
       "        Fecha de Transaccion  \n",
       "0 2024-12-26 23:20:30.945597  \n",
       "1 2024-12-26 23:20:30.945597  "
      ]
     },
     "execution_count": 185,
     "metadata": {},
     "output_type": "execute_result"
    }
   ],
   "source": [
    "df_clientes"
   ]
  },
  {
   "cell_type": "markdown",
   "metadata": {},
   "source": [
    "Vamos ahora a realizar un **retiro de efectivo**:"
   ]
  },
  {
   "cell_type": "code",
   "execution_count": 186,
   "metadata": {},
   "outputs": [
    {
     "data": {
      "text/html": [
       "<div>\n",
       "<style scoped>\n",
       "    .dataframe tbody tr th:only-of-type {\n",
       "        vertical-align: middle;\n",
       "    }\n",
       "\n",
       "    .dataframe tbody tr th {\n",
       "        vertical-align: top;\n",
       "    }\n",
       "\n",
       "    .dataframe thead th {\n",
       "        text-align: right;\n",
       "    }\n",
       "</style>\n",
       "<table border=\"1\" class=\"dataframe\">\n",
       "  <thead>\n",
       "    <tr style=\"text-align: right;\">\n",
       "      <th></th>\n",
       "      <th>Fecha</th>\n",
       "      <th>Cliente</th>\n",
       "      <th>Tipo de Cuenta</th>\n",
       "      <th>Tipo de Movimiento</th>\n",
       "      <th>Monto</th>\n",
       "    </tr>\n",
       "  </thead>\n",
       "  <tbody>\n",
       "    <tr>\n",
       "      <th>0</th>\n",
       "      <td>2024-12-26 23:20:30.945597</td>\n",
       "      <td>Juliana Castaneda</td>\n",
       "      <td>Ahorros</td>\n",
       "      <td>Deposito a tercero</td>\n",
       "      <td>200</td>\n",
       "    </tr>\n",
       "    <tr>\n",
       "      <th>1</th>\n",
       "      <td>2024-12-26 23:20:31.717333</td>\n",
       "      <td>Juliana Castaneda</td>\n",
       "      <td>Ahorros</td>\n",
       "      <td>Retiro</td>\n",
       "      <td>100</td>\n",
       "    </tr>\n",
       "    <tr>\n",
       "      <th>2</th>\n",
       "      <td>2024-12-26 23:20:30.945597</td>\n",
       "      <td>Ana Laura Ruiz</td>\n",
       "      <td>Corriente</td>\n",
       "      <td>Deposito recibido</td>\n",
       "      <td>200</td>\n",
       "    </tr>\n",
       "  </tbody>\n",
       "</table>\n",
       "</div>"
      ],
      "text/plain": [
       "                       Fecha            Cliente Tipo de Cuenta  \\\n",
       "0 2024-12-26 23:20:30.945597  Juliana Castaneda        Ahorros   \n",
       "1 2024-12-26 23:20:31.717333  Juliana Castaneda        Ahorros   \n",
       "2 2024-12-26 23:20:30.945597     Ana Laura Ruiz      Corriente   \n",
       "\n",
       "   Tipo de Movimiento  Monto  \n",
       "0  Deposito a tercero    200  \n",
       "1              Retiro    100  \n",
       "2   Deposito recibido    200  "
      ]
     },
     "execution_count": 186,
     "metadata": {},
     "output_type": "execute_result"
    }
   ],
   "source": [
    "# ------------ RETIROS ------------\n",
    "\n",
    "cliente1.retirar(100)                      # Juliana Castañeda retira $100\n",
    "\n",
    "# Actualizar DataFrame de clientes después de las transacciones\n",
    "df_clientes = crear_dataframe_clientes(clientes)\n",
    "\n",
    "df_movimientos = registrar_movimientos(clientes)\n",
    "df_movimientos \n"
   ]
  },
  {
   "cell_type": "markdown",
   "metadata": {},
   "source": [
    "La anterior tabla nos muestran los movimientos realizados junto con los depósitos recibidos."
   ]
  },
  {
   "cell_type": "markdown",
   "metadata": {},
   "source": [
    "Ahora pedimos que muestre la base de datos de los clientes junto con su saldo actual y es la siguiente:"
   ]
  },
  {
   "cell_type": "code",
   "execution_count": 187,
   "metadata": {},
   "outputs": [
    {
     "data": {
      "text/html": [
       "<div>\n",
       "<style scoped>\n",
       "    .dataframe tbody tr th:only-of-type {\n",
       "        vertical-align: middle;\n",
       "    }\n",
       "\n",
       "    .dataframe tbody tr th {\n",
       "        vertical-align: top;\n",
       "    }\n",
       "\n",
       "    .dataframe thead th {\n",
       "        text-align: right;\n",
       "    }\n",
       "</style>\n",
       "<table border=\"1\" class=\"dataframe\">\n",
       "  <thead>\n",
       "    <tr style=\"text-align: right;\">\n",
       "      <th></th>\n",
       "      <th>Nombre</th>\n",
       "      <th>Tipo de Cuenta</th>\n",
       "      <th>Numero de Cuenta</th>\n",
       "      <th>Saldo</th>\n",
       "      <th>Fecha de Transaccion</th>\n",
       "    </tr>\n",
       "  </thead>\n",
       "  <tbody>\n",
       "    <tr>\n",
       "      <th>0</th>\n",
       "      <td>Juliana Castaneda</td>\n",
       "      <td>Ahorros</td>\n",
       "      <td>0001</td>\n",
       "      <td>200</td>\n",
       "      <td>2024-12-26 23:20:31.717333</td>\n",
       "    </tr>\n",
       "    <tr>\n",
       "      <th>1</th>\n",
       "      <td>Ana Laura Ruiz</td>\n",
       "      <td>Corriente</td>\n",
       "      <td>0002</td>\n",
       "      <td>1700</td>\n",
       "      <td>2024-12-26 23:20:31.717333</td>\n",
       "    </tr>\n",
       "  </tbody>\n",
       "</table>\n",
       "</div>"
      ],
      "text/plain": [
       "              Nombre Tipo de Cuenta Numero de Cuenta  Saldo  \\\n",
       "0  Juliana Castaneda        Ahorros             0001    200   \n",
       "1     Ana Laura Ruiz      Corriente             0002   1700   \n",
       "\n",
       "        Fecha de Transaccion  \n",
       "0 2024-12-26 23:20:31.717333  \n",
       "1 2024-12-26 23:20:31.717333  "
      ]
     },
     "execution_count": 187,
     "metadata": {},
     "output_type": "execute_result"
    }
   ],
   "source": [
    "df_clientes"
   ]
  },
  {
   "cell_type": "markdown",
   "metadata": {},
   "source": [
    "**VALIDACIONES DE SALDO NEGATIVO**\n",
    "\n",
    "Ahora comprobaremos que cuando el cliente quiera realizar una transacción que no cumpla con el saldo mínimo admitido, no permitirá realizarla:"
   ]
  },
  {
   "cell_type": "code",
   "execution_count": 188,
   "metadata": {},
   "outputs": [
    {
     "data": {
      "text/html": [
       "<div>\n",
       "<style scoped>\n",
       "    .dataframe tbody tr th:only-of-type {\n",
       "        vertical-align: middle;\n",
       "    }\n",
       "\n",
       "    .dataframe tbody tr th {\n",
       "        vertical-align: top;\n",
       "    }\n",
       "\n",
       "    .dataframe thead th {\n",
       "        text-align: right;\n",
       "    }\n",
       "</style>\n",
       "<table border=\"1\" class=\"dataframe\">\n",
       "  <thead>\n",
       "    <tr style=\"text-align: right;\">\n",
       "      <th></th>\n",
       "      <th>Nombre</th>\n",
       "      <th>Tipo de Cuenta</th>\n",
       "      <th>Numero de Cuenta</th>\n",
       "      <th>Saldo</th>\n",
       "      <th>Fecha de Transaccion</th>\n",
       "    </tr>\n",
       "  </thead>\n",
       "  <tbody>\n",
       "    <tr>\n",
       "      <th>0</th>\n",
       "      <td>Juliana Castaneda</td>\n",
       "      <td>Ahorros</td>\n",
       "      <td>0001</td>\n",
       "      <td>200</td>\n",
       "      <td>2024-12-26 23:20:32.253294</td>\n",
       "    </tr>\n",
       "    <tr>\n",
       "      <th>1</th>\n",
       "      <td>Ana Laura Ruiz</td>\n",
       "      <td>Corriente</td>\n",
       "      <td>0002</td>\n",
       "      <td>1700</td>\n",
       "      <td>2024-12-26 23:20:32.253294</td>\n",
       "    </tr>\n",
       "    <tr>\n",
       "      <th>2</th>\n",
       "      <td>Juan Manuel</td>\n",
       "      <td>Ahorros</td>\n",
       "      <td>0003</td>\n",
       "      <td>800</td>\n",
       "      <td>2024-12-26 23:20:32.253294</td>\n",
       "    </tr>\n",
       "    <tr>\n",
       "      <th>3</th>\n",
       "      <td>Diana Laura</td>\n",
       "      <td>Corriente</td>\n",
       "      <td>0004</td>\n",
       "      <td>100</td>\n",
       "      <td>2024-12-26 23:20:32.253294</td>\n",
       "    </tr>\n",
       "  </tbody>\n",
       "</table>\n",
       "</div>"
      ],
      "text/plain": [
       "              Nombre Tipo de Cuenta Numero de Cuenta  Saldo  \\\n",
       "0  Juliana Castaneda        Ahorros             0001    200   \n",
       "1     Ana Laura Ruiz      Corriente             0002   1700   \n",
       "2        Juan Manuel        Ahorros             0003    800   \n",
       "3        Diana Laura      Corriente             0004    100   \n",
       "\n",
       "        Fecha de Transaccion  \n",
       "0 2024-12-26 23:20:32.253294  \n",
       "1 2024-12-26 23:20:32.253294  \n",
       "2 2024-12-26 23:20:32.253294  \n",
       "3 2024-12-26 23:20:32.253294  "
      ]
     },
     "execution_count": 188,
     "metadata": {},
     "output_type": "execute_result"
    }
   ],
   "source": [
    "# ------------ REGISTRO DE CLIENTES ------------\n",
    "\n",
    "# Agregamos dos clientes nuevos\n",
    "\n",
    "cliente3 = Clientes(\"0003\", \"Juan Manuel\", cuenta_ahorros, 800)\n",
    "cliente4 = Clientes(\"0004\", \"Diana Laura\", cuenta_corriente, 100)\n",
    "\n",
    "clientes.append(cliente3)\n",
    "clientes.append(cliente4)\n",
    "\n",
    "\n",
    "# Actualizar y mostrar la información de los clientes y sus movimientos\n",
    "df_clientes = crear_dataframe_clientes(clientes)\n",
    "df_clientes                                         # Muestra información de los clientes antes de las transacciones\n",
    "\n"
   ]
  },
  {
   "cell_type": "markdown",
   "metadata": {},
   "source": [
    "Podemos observar que el cliente Juan Manuel tiene una cuenta de ahorros y que cuenta con un saldo de $800, entonces no puede retirar más de esa cantidad. De lo contrario, el sistema no lo dejará."
   ]
  },
  {
   "cell_type": "code",
   "execution_count": 189,
   "metadata": {},
   "outputs": [
    {
     "name": "stdout",
     "output_type": "stream",
     "text": [
      "ERROR: Fondos insuficientes en una cuenta de ahorros.\n"
     ]
    }
   ],
   "source": [
    "# ------------ RETIROS ------------\n",
    "\n",
    "cliente3.retirar(850)\n"
   ]
  },
  {
   "cell_type": "markdown",
   "metadata": {},
   "source": [
    "##### **III) Implementa un sistema de auditoría que registre en un archivo CSV con todas las transacciones realizadas en el banco, indicando la fecha, el cliente, el tipo de cuenta y la cantidad transferida o retirada.**"
   ]
  },
  {
   "cell_type": "code",
   "execution_count": 190,
   "metadata": {},
   "outputs": [
    {
     "data": {
      "text/html": [
       "<div>\n",
       "<style scoped>\n",
       "    .dataframe tbody tr th:only-of-type {\n",
       "        vertical-align: middle;\n",
       "    }\n",
       "\n",
       "    .dataframe tbody tr th {\n",
       "        vertical-align: top;\n",
       "    }\n",
       "\n",
       "    .dataframe thead th {\n",
       "        text-align: right;\n",
       "    }\n",
       "</style>\n",
       "<table border=\"1\" class=\"dataframe\">\n",
       "  <thead>\n",
       "    <tr style=\"text-align: right;\">\n",
       "      <th></th>\n",
       "      <th>Fecha</th>\n",
       "      <th>Cliente</th>\n",
       "      <th>Tipo de Cuenta</th>\n",
       "      <th>Tipo de Movimiento</th>\n",
       "      <th>Monto</th>\n",
       "    </tr>\n",
       "  </thead>\n",
       "  <tbody>\n",
       "    <tr>\n",
       "      <th>0</th>\n",
       "      <td>2024-12-26 23:20:30.945597</td>\n",
       "      <td>Juliana Castaneda</td>\n",
       "      <td>Ahorros</td>\n",
       "      <td>Deposito a tercero</td>\n",
       "      <td>200</td>\n",
       "    </tr>\n",
       "    <tr>\n",
       "      <th>1</th>\n",
       "      <td>2024-12-26 23:20:31.717333</td>\n",
       "      <td>Juliana Castaneda</td>\n",
       "      <td>Ahorros</td>\n",
       "      <td>Retiro</td>\n",
       "      <td>100</td>\n",
       "    </tr>\n",
       "    <tr>\n",
       "      <th>2</th>\n",
       "      <td>2024-12-26 23:20:30.945597</td>\n",
       "      <td>Ana Laura Ruiz</td>\n",
       "      <td>Corriente</td>\n",
       "      <td>Deposito recibido</td>\n",
       "      <td>200</td>\n",
       "    </tr>\n",
       "  </tbody>\n",
       "</table>\n",
       "</div>"
      ],
      "text/plain": [
       "                       Fecha            Cliente Tipo de Cuenta  \\\n",
       "0 2024-12-26 23:20:30.945597  Juliana Castaneda        Ahorros   \n",
       "1 2024-12-26 23:20:31.717333  Juliana Castaneda        Ahorros   \n",
       "2 2024-12-26 23:20:30.945597     Ana Laura Ruiz      Corriente   \n",
       "\n",
       "   Tipo de Movimiento  Monto  \n",
       "0  Deposito a tercero    200  \n",
       "1              Retiro    100  \n",
       "2   Deposito recibido    200  "
      ]
     },
     "execution_count": 190,
     "metadata": {},
     "output_type": "execute_result"
    }
   ],
   "source": [
    "df_movimientos"
   ]
  },
  {
   "cell_type": "code",
   "execution_count": 191,
   "metadata": {},
   "outputs": [],
   "source": [
    "# Transformar el CSV del registro de movimientos y nombrarlo auditoría\n",
    "\n",
    "df_movimientos.to_csv('auditoria.csv', index=False)"
   ]
  }
 ],
 "metadata": {
  "kernelspec": {
   "display_name": "Python 3",
   "language": "python",
   "name": "python3"
  },
  "language_info": {
   "codemirror_mode": {
    "name": "ipython",
    "version": 3
   },
   "file_extension": ".py",
   "mimetype": "text/x-python",
   "name": "python",
   "nbconvert_exporter": "python",
   "pygments_lexer": "ipython3",
   "version": "3.11.5"
  }
 },
 "nbformat": 4,
 "nbformat_minor": 2
}
