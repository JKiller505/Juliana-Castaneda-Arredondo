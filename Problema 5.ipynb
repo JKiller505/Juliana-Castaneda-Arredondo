{
 "cells": [
  {
   "cell_type": "markdown",
   "metadata": {},
   "source": [
    "## **GESTIÓN DE DATOS**\n",
    "\n",
    " **Nombre:** Juliana Castañeda Arredondo"
   ]
  },
  {
   "cell_type": "markdown",
   "metadata": {},
   "source": [
    "### ***PROBLEMA 5***\n",
    "\n",
    "##### **I) Diseña una función que, dado un arreglo de enteros (puede incluir números negativos) encuentre el subarreglo contiguo con la suma más alta. Usa el siguiente algoritmo para optimizar su función:**\n",
    "\n",
    "max t(i) = max(A[i], max t(i-1) + A[i]) \n",
    "\n",
    "En donde max t(i) es la suma maxima del subarreglo que termina en el índice i en el tiempo t y A[i] es el valor actual del arreglo.\n"
   ]
  },
  {
   "cell_type": "code",
   "execution_count": 6,
   "metadata": {},
   "outputs": [],
   "source": [
    "# Suma más alta del subarreglo contiguo\n",
    "def max_sub(A):\n",
    "    max_act = max_global = A[0]                 # Inicializamos en ceros para ir iterando\n",
    "\n",
    "    for num in A[1:]:\n",
    "        max_act = max(num, max_act + num)\n",
    "        if max_act > max_global:\n",
    "            max_global = max_act\n",
    "\n",
    "    return max_global"
   ]
  },
  {
   "cell_type": "code",
   "execution_count": 10,
   "metadata": {},
   "outputs": [],
   "source": [
    "# Ingresamos nuestra lista\n",
    "A = [-2, 1, -3, 4, -1, 2, 1, -5, 4]"
   ]
  },
  {
   "cell_type": "code",
   "execution_count": null,
   "metadata": {},
   "outputs": [],
   "source": [
    "# Imprimimos el resultado de nuestra función\n",
    "resultado = max_sub(A)\n",
    "print(f\"Suma máxima del subarreglo contiguo: {resultado}\")"
   ]
  },
  {
   "cell_type": "markdown",
   "metadata": {},
   "source": [
    "#### **II) Crea una función o clase que reciba una lista de montos de creditos solicitados por los clientes y un capital disponible total del banco. La función o clase debe encontrar la mayor cantidad de créditos que se pueden aprobar sin exceder el capital disponible**"
   ]
  },
  {
   "cell_type": "code",
   "execution_count": 14,
   "metadata": {},
   "outputs": [],
   "source": [
    "# Podemos aplicar el mismo método que utilicé en el ejercicio anterior \n",
    "\n",
    "def desembolso_creditos(montos, capital):\n",
    "    montos.sort()                                      # Ordenar los créditos de manera descendiente\n",
    "    total_aprobado = 0                                 # Inicializamos en ceros para ir iterando\n",
    "    creditos = []\n",
    "    \n",
    "    for monto in montos:\n",
    "        if total_aprobado + monto <= capital:          # Se busca maximizar los créditos SIN pasarse del capital que se tiene disponible\n",
    "            creditos.append(monto)\n",
    "            total_aprobado += monto\n",
    "        else:\n",
    "            break                                      # En el caso de excederse del capital, se cierra el ciclo\n",
    "    \n",
    "    return creditos, total_aprobado"
   ]
  },
  {
   "cell_type": "code",
   "execution_count": 15,
   "metadata": {},
   "outputs": [],
   "source": [
    "# Daremos algunos montos de créditos a aprobar y asignemos el capital con el que cuenta la empresa\n",
    "capital = 28000\n",
    "montos = [14000, 9500, 5600, 780, 6800, 4500, 8000]"
   ]
  },
  {
   "cell_type": "code",
   "execution_count": 23,
   "metadata": {},
   "outputs": [
    {
     "name": "stdout",
     "output_type": "stream",
     "text": [
      "Total del capital aprobado: $25680\n",
      "Créditos que fueron aprobados: [780, 4500, 5600, 6800, 8000]\n"
     ]
    }
   ],
   "source": [
    "creditos, total_aprobado = desembolso_creditos(montos, capital)\n",
    "\n",
    "print(f\"Total del capital aprobado: ${total_aprobado}\")\n",
    "print(f\"Créditos que fueron aprobados: {creditos}\")"
   ]
  },
  {
   "cell_type": "code",
   "execution_count": 22,
   "metadata": {},
   "outputs": [
    {
     "name": "stdout",
     "output_type": "stream",
     "text": [
      "Por lo tanto, se aprobó una cantidad de $25680 un total de $28000 del capital disponible.\n"
     ]
    }
   ],
   "source": [
    "print(f\"Por lo tanto, se aprobó una cantidad de ${total_aprobado} un total de ${capital} del capital disponible.\")"
   ]
  }
 ],
 "metadata": {
  "kernelspec": {
   "display_name": "Python 3",
   "language": "python",
   "name": "python3"
  },
  "language_info": {
   "codemirror_mode": {
    "name": "ipython",
    "version": 3
   },
   "file_extension": ".py",
   "mimetype": "text/x-python",
   "name": "python",
   "nbconvert_exporter": "python",
   "pygments_lexer": "ipython3",
   "version": "3.11.5"
  }
 },
 "nbformat": 4,
 "nbformat_minor": 2
}
